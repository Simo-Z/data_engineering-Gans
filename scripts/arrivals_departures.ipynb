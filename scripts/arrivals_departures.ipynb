{
 "cells": [
  {
   "cell_type": "markdown",
   "metadata": {},
   "source": [
    "# Arrivlas and Departures"
   ]
  },
  {
   "cell_type": "markdown",
   "metadata": {},
   "source": [
    "### Import Packages"
   ]
  },
  {
   "cell_type": "code",
   "execution_count": 39,
   "metadata": {},
   "outputs": [],
   "source": [
    "import pandas as pd\n",
    "import requests\n",
    "import sqlalchemy\n",
    "import os\n",
    "from dotenv import load_dotenv, find_dotenv\n",
    "from functools import wraps\n",
    "import datetime as dt\n",
    "import json"
   ]
  },
  {
   "cell_type": "markdown",
   "metadata": {},
   "source": [
    "### Load variables from .env file"
   ]
  },
  {
   "cell_type": "code",
   "execution_count": 2,
   "metadata": {},
   "outputs": [
    {
     "data": {
      "text/plain": [
       "True"
      ]
     },
     "execution_count": 2,
     "metadata": {},
     "output_type": "execute_result"
    }
   ],
   "source": [
    "# load env data from .env file.\n",
    "load_dotenv(find_dotenv(filename='.env'))"
   ]
  },
  {
   "cell_type": "markdown",
   "metadata": {},
   "source": [
    "### Logging Wrapper"
   ]
  },
  {
   "cell_type": "code",
   "execution_count": 3,
   "metadata": {},
   "outputs": [],
   "source": [
    "def log_step(func):\n",
    "    @wraps(func)\n",
    "    def wrapper(*args, **kwargs):\n",
    "        tic = dt.datetime.now()\n",
    "        result = func(*args, **kwargs)\n",
    "        time_taken = str(dt.datetime.now() - tic)\n",
    "        print(f\"{func.__name__}:\\n shape={result.shape} took {time_taken}s\\n\")\n",
    "        return result\n",
    "\n",
    "    return wrapper"
   ]
  },
  {
   "cell_type": "markdown",
   "metadata": {},
   "source": [
    "## Get Airports from DB"
   ]
  },
  {
   "cell_type": "code",
   "execution_count": 5,
   "metadata": {},
   "outputs": [],
   "source": [
    "schema=\"gans\"\n",
    "host=\"gans-aws.cs3d3b90junp.us-east-1.rds.amazonaws.com\"\n",
    "user=\"admin\"\n",
    "password = \"pEjhiw-wygsy4-quhsos\"\n",
    "port=3306\n",
    "con = f'mysql+pymysql://{user}:{password}@{host}:{port}/{schema}'\n"
   ]
  },
  {
   "cell_type": "code",
   "execution_count": 8,
   "metadata": {},
   "outputs": [],
   "source": [
    "def get_airports_from_db(con):\n",
    "    sql = '''\n",
    "    SELECT * FROM airports\n",
    "    WHERE municipality_country = \"Berlin,DE\"\n",
    "    '''\n",
    "    airports = pd.read_sql(sql, con = con)\n",
    "    return airports\n",
    "init_airports =  get_airports_from_db(con)\n"
   ]
  },
  {
   "cell_type": "code",
   "execution_count": 82,
   "metadata": {},
   "outputs": [],
   "source": [
    "def get_flight_schedules(airports):\n",
    "    responses_list = []\n",
    "    for index, airport_row in airports.iterrows():\n",
    "        url = \"https://aerodatabox.p.rapidapi.com/flights/airports/icao/EDDB/2022-04-07T19:00/2022-04-08T07:00\"\n",
    "        querystring = {\"withLeg\":\"true\",\"direction\":\"Both\",\"withCancelled\":\"true\",\"withCodeshared\":\"true\",\"withCargo\":\"true\",\"withPrivate\":\"true\",\"withLocation\":\"true\"}\n",
    "        headers = {\n",
    "            \"X-RapidAPI-Host\": \"aerodatabox.p.rapidapi.com\",\n",
    "            \"X-RapidAPI-Key\": \"c1bc1a1acemsh99ced7306b1d2c9p1c10d7jsn078f60dc1a0e\"\n",
    "        }\n",
    "        try:\n",
    "            # response = requests.request(\"GET\", url, headers=headers, params=querystring).json()\n",
    "            # response[\"municipality_country\"] = airport_row[\"municipality_country\"]\n",
    "            # responses_list.append(response)\n",
    "            json_file = f = open(\"./response_list.json\")\n",
    "            responses_list = json.load(f)\n",
    "        except Exception as e:\n",
    "            print(\"No data for:\", airport_row[\"airport_ident\"] )\n",
    "            raise e\n",
    "            continue\n",
    "        return responses_list\n"
   ]
  },
  {
   "cell_type": "code",
   "execution_count": 94,
   "metadata": {},
   "outputs": [],
   "source": [
    "def unpack_responses(responses_list):\n",
    "    arrivals = pd.DataFrame()\n",
    "    departures = pd.DataFrame()\n",
    "    for response in responses_list:\n",
    "        city_arr =pd.json_normalize(response[\"departures\"], sep=\"_\")\n",
    "        city_dep = pd.json_normalize(response[\"arrivals\"], sep=\"_\")        \n",
    "        arrivals = pd.concat([arrivals, city_arr])\n",
    "        departures = pd.concat([departures, city_dep])\n",
    "    return [arrivals, departures]\n",
    "    \n"
   ]
  },
  {
   "cell_type": "code",
   "execution_count": 96,
   "metadata": {},
   "outputs": [
    {
     "data": {
      "text/html": [
       "<div>\n",
       "<style scoped>\n",
       "    .dataframe tbody tr th:only-of-type {\n",
       "        vertical-align: middle;\n",
       "    }\n",
       "\n",
       "    .dataframe tbody tr th {\n",
       "        vertical-align: top;\n",
       "    }\n",
       "\n",
       "    .dataframe thead th {\n",
       "        text-align: right;\n",
       "    }\n",
       "</style>\n",
       "<table border=\"1\" class=\"dataframe\">\n",
       "  <thead>\n",
       "    <tr style=\"text-align: right;\">\n",
       "      <th></th>\n",
       "      <th>number</th>\n",
       "      <th>callSign</th>\n",
       "      <th>status</th>\n",
       "      <th>codeshareStatus</th>\n",
       "      <th>isCargo</th>\n",
       "      <th>departure_airport_name</th>\n",
       "      <th>departure_quality</th>\n",
       "      <th>arrival_scheduledTimeLocal</th>\n",
       "      <th>arrival_actualTimeLocal</th>\n",
       "      <th>arrival_runwayTimeLocal</th>\n",
       "      <th>...</th>\n",
       "      <th>departure_gate</th>\n",
       "      <th>departure_runway</th>\n",
       "      <th>arrival_terminal</th>\n",
       "      <th>arrival_runway</th>\n",
       "      <th>location_pressureAltFt</th>\n",
       "      <th>location_gsKt</th>\n",
       "      <th>location_trackDeg</th>\n",
       "      <th>location_reportedAtUtc</th>\n",
       "      <th>location_lat</th>\n",
       "      <th>location_lon</th>\n",
       "    </tr>\n",
       "  </thead>\n",
       "  <tbody>\n",
       "    <tr>\n",
       "      <th>0</th>\n",
       "      <td>EC 75MF</td>\n",
       "      <td>EJU15HE</td>\n",
       "      <td>Arrived</td>\n",
       "      <td>IsOperator</td>\n",
       "      <td>False</td>\n",
       "      <td>Unknown</td>\n",
       "      <td>[]</td>\n",
       "      <td>2022-04-07 08:56+02:00</td>\n",
       "      <td>2022-04-07 19:20+02:00</td>\n",
       "      <td>2022-04-07 19:20+02:00</td>\n",
       "      <td>...</td>\n",
       "      <td>NaN</td>\n",
       "      <td>NaN</td>\n",
       "      <td>NaN</td>\n",
       "      <td>NaN</td>\n",
       "      <td>NaN</td>\n",
       "      <td>NaN</td>\n",
       "      <td>NaN</td>\n",
       "      <td>NaN</td>\n",
       "      <td>NaN</td>\n",
       "      <td>NaN</td>\n",
       "    </tr>\n",
       "    <tr>\n",
       "      <th>1</th>\n",
       "      <td>LH 192</td>\n",
       "      <td>DLH9PW</td>\n",
       "      <td>Arrived</td>\n",
       "      <td>IsOperator</td>\n",
       "      <td>False</td>\n",
       "      <td>Frankfurt-am-Main</td>\n",
       "      <td>[Basic, Live]</td>\n",
       "      <td>2022-04-07 17:55+02:00</td>\n",
       "      <td>2022-04-07 19:04+02:00</td>\n",
       "      <td>2022-04-07 19:04+02:00</td>\n",
       "      <td>...</td>\n",
       "      <td>A11</td>\n",
       "      <td>25C</td>\n",
       "      <td>1</td>\n",
       "      <td>NaN</td>\n",
       "      <td>NaN</td>\n",
       "      <td>NaN</td>\n",
       "      <td>NaN</td>\n",
       "      <td>NaN</td>\n",
       "      <td>NaN</td>\n",
       "      <td>NaN</td>\n",
       "    </tr>\n",
       "    <tr>\n",
       "      <th>2</th>\n",
       "      <td>BA 986</td>\n",
       "      <td>BAW986</td>\n",
       "      <td>Arrived</td>\n",
       "      <td>IsOperator</td>\n",
       "      <td>False</td>\n",
       "      <td>London</td>\n",
       "      <td>[Basic, Live]</td>\n",
       "      <td>2022-04-07 18:30+02:00</td>\n",
       "      <td>2022-04-07 19:18+02:00</td>\n",
       "      <td>2022-04-07 19:18+02:00</td>\n",
       "      <td>...</td>\n",
       "      <td>NaN</td>\n",
       "      <td>NaN</td>\n",
       "      <td>1</td>\n",
       "      <td>NaN</td>\n",
       "      <td>NaN</td>\n",
       "      <td>NaN</td>\n",
       "      <td>NaN</td>\n",
       "      <td>NaN</td>\n",
       "      <td>NaN</td>\n",
       "      <td>NaN</td>\n",
       "    </tr>\n",
       "    <tr>\n",
       "      <th>3</th>\n",
       "      <td>LH 194</td>\n",
       "      <td>DLH4JW</td>\n",
       "      <td>Arrived</td>\n",
       "      <td>IsOperator</td>\n",
       "      <td>False</td>\n",
       "      <td>Frankfurt-am-Main</td>\n",
       "      <td>[Basic, Live]</td>\n",
       "      <td>2022-04-07 18:55+02:00</td>\n",
       "      <td>2022-04-07 19:43+02:00</td>\n",
       "      <td>2022-04-07 19:43+02:00</td>\n",
       "      <td>...</td>\n",
       "      <td>A19</td>\n",
       "      <td>NaN</td>\n",
       "      <td>1</td>\n",
       "      <td>NaN</td>\n",
       "      <td>NaN</td>\n",
       "      <td>NaN</td>\n",
       "      <td>NaN</td>\n",
       "      <td>NaN</td>\n",
       "      <td>NaN</td>\n",
       "      <td>NaN</td>\n",
       "    </tr>\n",
       "    <tr>\n",
       "      <th>4</th>\n",
       "      <td>4U 20</td>\n",
       "      <td>GWI020</td>\n",
       "      <td>Arrived</td>\n",
       "      <td>IsOperator</td>\n",
       "      <td>False</td>\n",
       "      <td>Cologne</td>\n",
       "      <td>[]</td>\n",
       "      <td>2022-04-07 19:09+02:00</td>\n",
       "      <td>2022-04-07 19:09+02:00</td>\n",
       "      <td>2022-04-07 19:09+02:00</td>\n",
       "      <td>...</td>\n",
       "      <td>NaN</td>\n",
       "      <td>NaN</td>\n",
       "      <td>NaN</td>\n",
       "      <td>NaN</td>\n",
       "      <td>NaN</td>\n",
       "      <td>NaN</td>\n",
       "      <td>NaN</td>\n",
       "      <td>NaN</td>\n",
       "      <td>NaN</td>\n",
       "      <td>NaN</td>\n",
       "    </tr>\n",
       "  </tbody>\n",
       "</table>\n",
       "<p>5 rows × 38 columns</p>\n",
       "</div>"
      ],
      "text/plain": [
       "    number callSign   status codeshareStatus isCargo departure_airport_name  \\\n",
       "0  EC 75MF  EJU15HE  Arrived      IsOperator   False                Unknown   \n",
       "1   LH 192   DLH9PW  Arrived      IsOperator   False      Frankfurt-am-Main   \n",
       "2   BA 986   BAW986  Arrived      IsOperator   False                 London   \n",
       "3   LH 194   DLH4JW  Arrived      IsOperator   False      Frankfurt-am-Main   \n",
       "4    4U 20   GWI020  Arrived      IsOperator   False                Cologne   \n",
       "\n",
       "  departure_quality arrival_scheduledTimeLocal arrival_actualTimeLocal  \\\n",
       "0                []     2022-04-07 08:56+02:00  2022-04-07 19:20+02:00   \n",
       "1     [Basic, Live]     2022-04-07 17:55+02:00  2022-04-07 19:04+02:00   \n",
       "2     [Basic, Live]     2022-04-07 18:30+02:00  2022-04-07 19:18+02:00   \n",
       "3     [Basic, Live]     2022-04-07 18:55+02:00  2022-04-07 19:43+02:00   \n",
       "4                []     2022-04-07 19:09+02:00  2022-04-07 19:09+02:00   \n",
       "\n",
       "  arrival_runwayTimeLocal  ... departure_gate departure_runway  \\\n",
       "0  2022-04-07 19:20+02:00  ...            NaN              NaN   \n",
       "1  2022-04-07 19:04+02:00  ...            A11              25C   \n",
       "2  2022-04-07 19:18+02:00  ...            NaN              NaN   \n",
       "3  2022-04-07 19:43+02:00  ...            A19              NaN   \n",
       "4  2022-04-07 19:09+02:00  ...            NaN              NaN   \n",
       "\n",
       "  arrival_terminal arrival_runway location_pressureAltFt location_gsKt  \\\n",
       "0              NaN            NaN                    NaN           NaN   \n",
       "1                1            NaN                    NaN           NaN   \n",
       "2                1            NaN                    NaN           NaN   \n",
       "3                1            NaN                    NaN           NaN   \n",
       "4              NaN            NaN                    NaN           NaN   \n",
       "\n",
       "  location_trackDeg location_reportedAtUtc location_lat location_lon  \n",
       "0               NaN                    NaN          NaN          NaN  \n",
       "1               NaN                    NaN          NaN          NaN  \n",
       "2               NaN                    NaN          NaN          NaN  \n",
       "3               NaN                    NaN          NaN          NaN  \n",
       "4               NaN                    NaN          NaN          NaN  \n",
       "\n",
       "[5 rows x 38 columns]"
      ]
     },
     "execution_count": 96,
     "metadata": {},
     "output_type": "execute_result"
    }
   ],
   "source": []
  },
  {
   "cell_type": "code",
   "execution_count": null,
   "metadata": {},
   "outputs": [],
   "source": [
    "def clean_arrivals(df):\n",
    "    # rename_columns\n",
    "    df.rename(columns={\n",
    "        \"number\": \"flight_number\",\n",
    "        \"call_sign\": \"flight_call_sign\",\n",
    "        \"status\": \"flight_status\",\n",
    "        \"is_cargo\": \"flight_is_cargo\",\n",
    "    })\n",
    "    \n"
   ]
  },
  {
   "cell_type": "markdown",
   "metadata": {},
   "source": [
    "## Data Cleaning Pipeline"
   ]
  },
  {
   "cell_type": "markdown",
   "metadata": {},
   "source": [
    "### Init Pipeline"
   ]
  },
  {
   "cell_type": "code",
   "execution_count": 12,
   "metadata": {},
   "outputs": [],
   "source": [
    "@log_step\n",
    "def init_pipeline(df):\n",
    "    return  df.copy()"
   ]
  },
  {
   "cell_type": "markdown",
   "metadata": {},
   "source": [
    "### Rename Columns"
   ]
  },
  {
   "cell_type": "code",
   "execution_count": 26,
   "metadata": {},
   "outputs": [],
   "source": [
    "@log_step\n",
    "def rename_columns(df):\n",
    "    return  (\n",
    "    df.rename(columns={\n",
    "        \"id\": \"city_id\",\n",
    "    })\n",
    "    )"
   ]
  },
  {
   "cell_type": "markdown",
   "metadata": {},
   "source": [
    "### Drop Columns"
   ]
  },
  {
   "cell_type": "code",
   "execution_count": 7,
   "metadata": {},
   "outputs": [],
   "source": [
    "@log_step\n",
    "def drop_columns(df):\n",
    "    return  df.drop(columns=[\"city_state\"])"
   ]
  },
  {
   "cell_type": "markdown",
   "metadata": {},
   "source": [
    "### Add Columns"
   ]
  },
  {
   "cell_type": "code",
   "execution_count": 25,
   "metadata": {},
   "outputs": [],
   "source": [
    "@log_step\n",
    "def add_columns(df):\n",
    "    return  (\n",
    "        df\n",
    "        .assign(municipality_country = lambda x: x[\"city_name\"] + \",\" + x[\"city_country\"])\n",
    "        .assign(created_at = dt.datetime.now())\n",
    "    )"
   ]
  },
  {
   "cell_type": "markdown",
   "metadata": {},
   "source": [
    "### Adjust Datatypes"
   ]
  },
  {
   "cell_type": "code",
   "execution_count": 24,
   "metadata": {},
   "outputs": [],
   "source": [
    "\n",
    "def adjust_datatypes(df):\n",
    "    # df[\"city_id\"] = df[\"city_id\"].astype(\"int64\").astype(\"string\")\n",
    "    return df \n"
   ]
  },
  {
   "cell_type": "markdown",
   "metadata": {},
   "source": [
    "### Send to DB"
   ]
  },
  {
   "cell_type": "code",
   "execution_count": 15,
   "metadata": {},
   "outputs": [],
   "source": [
    "def send_to_DB(df, table_name, if_exists=\"replace\"):      \n",
    "    con = f'mysql+pymysql://{os.environ[\"DB_USER\"]}:{os.environ[\"DB_PASSWORD\"]}@{os.environ[\"DB_HOST\"]}:{os.environ[\"DB_PORT\"]}/{os.environ[\"DB_SCHEMA\"]}'\n",
    "    df.to_sql(\n",
    "        table_name, \n",
    "        con=con, \n",
    "        if_exists=if_exists,\n",
    "        index=False,\n",
    "        dtype={\n",
    "            'city_id': sqlalchemy.types.VARCHAR(length=30),\n",
    "            \n",
    "        }\n",
    "    )\n",
    "    engine = sqlalchemy.create_engine(con)\n",
    "    with engine.connect() as engine:\n",
    "        engine.execute('ALTER TABLE `cities` ADD PRIMARY KEY (`municipality_country`);')\n",
    "    return df\n"
   ]
  },
  {
   "cell_type": "markdown",
   "metadata": {},
   "source": [
    "## Lambda Handler"
   ]
  },
  {
   "cell_type": "code",
   "execution_count": 90,
   "metadata": {},
   "outputs": [],
   "source": [
    "\n",
    "def lambda_handler():\n",
    "    airports = get_airports_from_db(con)\n",
    "    responses_list = get_flight_schedules(airports)\n",
    "    [arrivals, departures] = unpack_responses(responses_list)\n",
    "    arrivals = clean_arrivals(arrivals)\n",
    "    #departures = clean_arrivals(departures)\n",
    "    #send_to_DB([arrivals, departures])\n",
    "    return arrivals\n",
    "\n",
    "    \n",
    "    "
   ]
  },
  {
   "cell_type": "code",
   "execution_count": 95,
   "metadata": {},
   "outputs": [],
   "source": [
    "arrivals = lambda_handler()"
   ]
  },
  {
   "cell_type": "code",
   "execution_count": null,
   "metadata": {},
   "outputs": [],
   "source": []
  }
 ],
 "metadata": {
  "interpreter": {
   "hash": "40d3a090f54c6569ab1632332b64b2c03c39dcf918b08424e98f38b5ae0af88f"
  },
  "kernelspec": {
   "display_name": "Python 3.9.7 ('base')",
   "language": "python",
   "name": "python3"
  },
  "language_info": {
   "codemirror_mode": {
    "name": "ipython",
    "version": 3
   },
   "file_extension": ".py",
   "mimetype": "text/x-python",
   "name": "python",
   "nbconvert_exporter": "python",
   "pygments_lexer": "ipython3",
   "version": "3.9.7"
  },
  "orig_nbformat": 4
 },
 "nbformat": 4,
 "nbformat_minor": 2
}
