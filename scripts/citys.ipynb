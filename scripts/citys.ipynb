{
 "cells": [
  {
   "cell_type": "markdown",
   "metadata": {},
   "source": [
    "# German Citys"
   ]
  },
  {
   "cell_type": "markdown",
   "metadata": {},
   "source": [
    "### Import Packages"
   ]
  },
  {
   "cell_type": "code",
   "execution_count": 1,
   "metadata": {},
   "outputs": [],
   "source": [
    "import pandas as pd\n",
    "import sqlalchemy\n",
    "import os\n",
    "from dotenv import load_dotenv, find_dotenv\n",
    "from functools import wraps\n",
    "import datetime as dt"
   ]
  },
  {
   "cell_type": "markdown",
   "metadata": {},
   "source": [
    "### Load variables from .env file"
   ]
  },
  {
   "cell_type": "code",
   "execution_count": 2,
   "metadata": {},
   "outputs": [
    {
     "data": {
      "text/plain": [
       "True"
      ]
     },
     "execution_count": 2,
     "metadata": {},
     "output_type": "execute_result"
    }
   ],
   "source": [
    "# load env data from .env file.\n",
    "load_dotenv(find_dotenv(filename='.env'))"
   ]
  },
  {
   "cell_type": "markdown",
   "metadata": {},
   "source": [
    "### Logging Wrapper"
   ]
  },
  {
   "cell_type": "code",
   "execution_count": 3,
   "metadata": {},
   "outputs": [],
   "source": [
    "def log_step(func):\n",
    "    @wraps(func)\n",
    "    def wrapper(*args, **kwargs):\n",
    "        tic = dt.datetime.now()\n",
    "        result = func(*args, **kwargs)\n",
    "        time_taken = str(dt.datetime.now() - tic)\n",
    "        print(f\"{func.__name__}:\\n shape={result.shape} took {time_taken}s\\n\")\n",
    "        return result\n",
    "\n",
    "    return wrapper"
   ]
  },
  {
   "cell_type": "markdown",
   "metadata": {},
   "source": [
    "### Get Citys from CSV"
   ]
  },
  {
   "cell_type": "code",
   "execution_count": 4,
   "metadata": {},
   "outputs": [
    {
     "name": "stderr",
     "output_type": "stream",
     "text": [
      "/var/folders/kx/b3xc9jhj6qd_wgghcg01wqyr0000gn/T/ipykernel_22090/3320118520.py:1: DtypeWarning: Columns (2) have mixed types. Specify dtype option on import or set low_memory=False.\n",
      "  all_qwm_cities = pd.read_csv(\"../data/csv/owm_city_data.csv\")\n"
     ]
    },
    {
     "data": {
      "text/html": [
       "<div>\n",
       "<style scoped>\n",
       "    .dataframe tbody tr th:only-of-type {\n",
       "        vertical-align: middle;\n",
       "    }\n",
       "\n",
       "    .dataframe tbody tr th {\n",
       "        vertical-align: top;\n",
       "    }\n",
       "\n",
       "    .dataframe thead th {\n",
       "        text-align: right;\n",
       "    }\n",
       "</style>\n",
       "<table border=\"1\" class=\"dataframe\">\n",
       "  <thead>\n",
       "    <tr style=\"text-align: right;\">\n",
       "      <th></th>\n",
       "      <th>id</th>\n",
       "      <th>name</th>\n",
       "      <th>state</th>\n",
       "      <th>country</th>\n",
       "      <th>coord.lon</th>\n",
       "      <th>coord.lat</th>\n",
       "    </tr>\n",
       "  </thead>\n",
       "  <tbody>\n",
       "    <tr>\n",
       "      <th>0</th>\n",
       "      <td>833.0</td>\n",
       "      <td>Ḩeşār-e Sefīd</td>\n",
       "      <td>NaN</td>\n",
       "      <td>IR</td>\n",
       "      <td>47.159401</td>\n",
       "      <td>34.330502</td>\n",
       "    </tr>\n",
       "    <tr>\n",
       "      <th>1</th>\n",
       "      <td>2960.0</td>\n",
       "      <td>‘Ayn Ḩalāqīm</td>\n",
       "      <td>NaN</td>\n",
       "      <td>SY</td>\n",
       "      <td>36.321911</td>\n",
       "      <td>34.940079</td>\n",
       "    </tr>\n",
       "    <tr>\n",
       "      <th>2</th>\n",
       "      <td>3245.0</td>\n",
       "      <td>Taglag</td>\n",
       "      <td>NaN</td>\n",
       "      <td>IR</td>\n",
       "      <td>44.983330</td>\n",
       "      <td>38.450001</td>\n",
       "    </tr>\n",
       "  </tbody>\n",
       "</table>\n",
       "</div>"
      ],
      "text/plain": [
       "       id           name state country  coord.lon  coord.lat\n",
       "0   833.0  Ḩeşār-e Sefīd   NaN      IR  47.159401  34.330502\n",
       "1  2960.0   ‘Ayn Ḩalāqīm   NaN      SY  36.321911  34.940079\n",
       "2  3245.0         Taglag   NaN      IR  44.983330  38.450001"
      ]
     },
     "execution_count": 4,
     "metadata": {},
     "output_type": "execute_result"
    }
   ],
   "source": [
    "all_qwm_cities = pd.read_csv(\"../data/csv/owm_city_data.csv\")\n",
    "world_cities = pd.read_csv(\"../data/csv/worldcities.csv\")\n",
    "world_cities = pd.read_csv(\"../data/csv/worldcities.csv\")\n",
    "all_qwm_cities.head(3)"
   ]
  },
  {
   "cell_type": "markdown",
   "metadata": {},
   "source": [
    "## Data Cleaning Pipeline"
   ]
  },
  {
   "cell_type": "markdown",
   "metadata": {},
   "source": [
    "### Init Pipeline"
   ]
  },
  {
   "cell_type": "code",
   "execution_count": 5,
   "metadata": {},
   "outputs": [],
   "source": [
    "@log_step\n",
    "def init_pipeline(df):\n",
    "    return  df.copy()"
   ]
  },
  {
   "cell_type": "markdown",
   "metadata": {},
   "source": [
    "### Rename Columns"
   ]
  },
  {
   "cell_type": "code",
   "execution_count": 6,
   "metadata": {},
   "outputs": [],
   "source": [
    "@log_step\n",
    "def rename_columns(df):\n",
    "    return  (\n",
    "    df.rename(columns={\n",
    "        \"id\": \"city_id\",\n",
    "        \"name\": \"city_name\",\n",
    "        \"state\": \"city_state\",\n",
    "        \"country\": \"city_country\",\n",
    "        \"coord.lon\": \"city_longitude\",\n",
    "        \"coord.lat\": \"city_latitude\"\n",
    "    })\n",
    "    )"
   ]
  },
  {
   "cell_type": "markdown",
   "metadata": {},
   "source": [
    "### Drop Columns"
   ]
  },
  {
   "cell_type": "code",
   "execution_count": 7,
   "metadata": {},
   "outputs": [],
   "source": [
    "@log_step\n",
    "def drop_columns(df):\n",
    "    return  df.drop(columns=[\"city_state\"])"
   ]
  },
  {
   "cell_type": "markdown",
   "metadata": {},
   "source": [
    "### Add Columns"
   ]
  },
  {
   "cell_type": "code",
   "execution_count": 8,
   "metadata": {},
   "outputs": [],
   "source": [
    "@log_step\n",
    "def add_columns(df):\n",
    "    city_population = world_cities.assign(municipality_country = lambda x:  x[\"city_ascii\"]+ \",\" + x[\"iso2\"])[[\"municipality_country\", \"population\"]]\n",
    "    city_population = city_population.rename(columns={\"population\": \"city_pop\"})\n",
    "    return  (\n",
    "        df\n",
    "        .assign(municipality_country = lambda x: x[\"city_name\"] + \",\" + x[\"city_country\"])\n",
    "        .assign(created_at = dt.datetime.now())\n",
    "        .merge(city_population, how=\"left\")\n",
    "        .dropna()\n",
    "        .reset_index(drop=True)\n",
    "    )"
   ]
  },
  {
   "cell_type": "markdown",
   "metadata": {},
   "source": [
    "### Drop Duplicates"
   ]
  },
  {
   "cell_type": "code",
   "execution_count": 9,
   "metadata": {},
   "outputs": [],
   "source": [
    "@log_step\n",
    "def drop_duplicates(df):\n",
    "    return  df.drop_duplicates(subset=\"municipality_country\")"
   ]
  },
  {
   "cell_type": "markdown",
   "metadata": {},
   "source": [
    "### Get German Citys"
   ]
  },
  {
   "cell_type": "code",
   "execution_count": 10,
   "metadata": {},
   "outputs": [],
   "source": [
    "@log_step\n",
    "def get_german_cities(df):\n",
    "    return  (\n",
    "        df\n",
    "            .loc[df[\"city_country\"] == \"DE\"]\n",
    "            .reset_index(drop=True)\n",
    "    )  "
   ]
  },
  {
   "cell_type": "markdown",
   "metadata": {},
   "source": [
    "### Adjust Datatypes"
   ]
  },
  {
   "cell_type": "code",
   "execution_count": 11,
   "metadata": {},
   "outputs": [],
   "source": [
    "\n",
    "def adjust_datatypes(df):\n",
    "    df[\"city_id\"] = df[\"city_id\"].astype(\"int64\").astype(\"string\")\n",
    "    df[\"city_name\"] = df[\"city_name\"].astype(\"string\")\n",
    "    df[\"city_country\"] = df[\"city_country\"].astype(\"string\")\n",
    "    df[\"city_longitude\"] = df[\"city_longitude\"].astype(\"float32\")\n",
    "    df[\"city_latitude\"] = df[\"city_latitude\"].astype(\"float32\")\n",
    "    df[\"municipality_country\"] = df[\"municipality_country\"].astype(\"string\")\n",
    "    df[\"city_pop\"] = df[\"city_pop\"].astype(\"int\")\n",
    "    return (\n",
    "        df\n",
    "            .sort_values(\"city_pop\", ascending=False)\n",
    "            .reset_index(drop=True)\n",
    "    )"
   ]
  },
  {
   "cell_type": "markdown",
   "metadata": {},
   "source": [
    "### Send to DB"
   ]
  },
  {
   "cell_type": "code",
   "execution_count": 15,
   "metadata": {},
   "outputs": [],
   "source": [
    "def send_to_DB(df, table_name, if_exists=\"replace\"):      \n",
    "    con = f'mysql+pymysql://{os.environ[\"DB_USER\"]}:{os.environ[\"DB_PASSWORD\"]}@{os.environ[\"DB_HOST\"]}:{os.environ[\"DB_PORT\"]}/{os.environ[\"DB_SCHEMA\"]}'\n",
    "    df.to_sql(\n",
    "        table_name, \n",
    "        con=con, \n",
    "        if_exists=if_exists,\n",
    "        index=False,\n",
    "        dtype={\n",
    "            'city_id': sqlalchemy.types.VARCHAR(length=30),\n",
    "            'city_name': sqlalchemy.types.VARCHAR(length=40),\n",
    "            'city_country': sqlalchemy.types.VARCHAR(length=40),\n",
    "            'city_longitude': sqlalchemy.types.Float(precision=3, asdecimal=True),\n",
    "            'city_latitude': sqlalchemy.types.Float(precision=3, asdecimal=True),\n",
    "            'municipality_country': sqlalchemy.types.VARCHAR(length=100),\n",
    "            'created_at': sqlalchemy.types.DateTime(),\n",
    "            'city_pop': sqlalchemy.types.Integer()\n",
    "        }\n",
    "    )\n",
    "    engine = sqlalchemy.create_engine(con)\n",
    "    with engine.connect() as engine:\n",
    "        engine.execute('ALTER TABLE `cities` ADD PRIMARY KEY (`municipality_country`);')\n",
    "    return df\n"
   ]
  },
  {
   "cell_type": "markdown",
   "metadata": {},
   "source": [
    "## RUN Pipeline"
   ]
  },
  {
   "cell_type": "code",
   "execution_count": 13,
   "metadata": {},
   "outputs": [
    {
     "name": "stdout",
     "output_type": "stream",
     "text": [
      "init_pipeline:\n",
      " shape=(209579, 6) took 0:00:00.013735s\n",
      "\n",
      "rename_columns:\n",
      " shape=(209579, 6) took 0:00:00.011521s\n",
      "\n",
      "drop_columns:\n",
      " shape=(209579, 5) took 0:00:00.007346s\n",
      "\n",
      "add_columns:\n",
      " shape=(54793, 8) took 0:00:00.449862s\n",
      "\n",
      "drop_duplicates:\n",
      " shape=(26649, 8) took 0:00:00.015666s\n",
      "\n",
      "get_german_cities:\n",
      " shape=(2127, 8) took 0:00:00.003330s\n",
      "\n",
      "<class 'pandas.core.frame.DataFrame'>\n",
      "RangeIndex: 2127 entries, 0 to 2126\n",
      "Data columns (total 8 columns):\n",
      " #   Column                Non-Null Count  Dtype         \n",
      "---  ------                --------------  -----         \n",
      " 0   city_id               2127 non-null   string        \n",
      " 1   city_name             2127 non-null   string        \n",
      " 2   city_country          2127 non-null   string        \n",
      " 3   city_longitude        2127 non-null   float32       \n",
      " 4   city_latitude         2127 non-null   float32       \n",
      " 5   municipality_country  2127 non-null   string        \n",
      " 6   created_at            2127 non-null   datetime64[ns]\n",
      " 7   city_pop              2127 non-null   int64         \n",
      "dtypes: datetime64[ns](1), float32(2), int64(1), string(4)\n",
      "memory usage: 116.4 KB\n"
     ]
    }
   ],
   "source": [
    "german_cities = (\n",
    "    all_qwm_cities\n",
    "        .pipe(init_pipeline)\n",
    "        .pipe(rename_columns)\n",
    "        .pipe(drop_columns)\n",
    "        .pipe(add_columns) # Population, Drop Citys with no Population data\n",
    "        .pipe(drop_duplicates)\n",
    "        .pipe(get_german_cities)\n",
    "        .pipe(adjust_datatypes)\n",
    "        # Send to DB in cell below\n",
    ")\n",
    "german_cities.info()"
   ]
  },
  {
   "cell_type": "code",
   "execution_count": 14,
   "metadata": {},
   "outputs": [
    {
     "data": {
      "text/html": [
       "<div>\n",
       "<style scoped>\n",
       "    .dataframe tbody tr th:only-of-type {\n",
       "        vertical-align: middle;\n",
       "    }\n",
       "\n",
       "    .dataframe tbody tr th {\n",
       "        vertical-align: top;\n",
       "    }\n",
       "\n",
       "    .dataframe thead th {\n",
       "        text-align: right;\n",
       "    }\n",
       "</style>\n",
       "<table border=\"1\" class=\"dataframe\">\n",
       "  <thead>\n",
       "    <tr style=\"text-align: right;\">\n",
       "      <th></th>\n",
       "      <th>city_id</th>\n",
       "      <th>city_name</th>\n",
       "      <th>city_country</th>\n",
       "      <th>city_longitude</th>\n",
       "      <th>city_latitude</th>\n",
       "      <th>municipality_country</th>\n",
       "      <th>created_at</th>\n",
       "      <th>city_pop</th>\n",
       "    </tr>\n",
       "  </thead>\n",
       "  <tbody>\n",
       "    <tr>\n",
       "      <th>0</th>\n",
       "      <td>2950158</td>\n",
       "      <td>Berlin</td>\n",
       "      <td>DE</td>\n",
       "      <td>10.45000</td>\n",
       "      <td>54.033329</td>\n",
       "      <td>Berlin,DE</td>\n",
       "      <td>2022-04-07 10:32:47.888142</td>\n",
       "      <td>3664088</td>\n",
       "    </tr>\n",
       "    <tr>\n",
       "      <th>1</th>\n",
       "      <td>2911298</td>\n",
       "      <td>Hamburg</td>\n",
       "      <td>DE</td>\n",
       "      <td>10.00000</td>\n",
       "      <td>53.549999</td>\n",
       "      <td>Hamburg,DE</td>\n",
       "      <td>2022-04-07 10:32:47.888142</td>\n",
       "      <td>1852478</td>\n",
       "    </tr>\n",
       "    <tr>\n",
       "      <th>2</th>\n",
       "      <td>2867714</td>\n",
       "      <td>Munich</td>\n",
       "      <td>DE</td>\n",
       "      <td>11.57549</td>\n",
       "      <td>48.137428</td>\n",
       "      <td>Munich,DE</td>\n",
       "      <td>2022-04-07 10:32:47.888142</td>\n",
       "      <td>1488202</td>\n",
       "    </tr>\n",
       "    <tr>\n",
       "      <th>3</th>\n",
       "      <td>2825297</td>\n",
       "      <td>Stuttgart</td>\n",
       "      <td>DE</td>\n",
       "      <td>9.17702</td>\n",
       "      <td>48.782318</td>\n",
       "      <td>Stuttgart,DE</td>\n",
       "      <td>2022-04-07 10:32:47.888142</td>\n",
       "      <td>630305</td>\n",
       "    </tr>\n",
       "    <tr>\n",
       "      <th>4</th>\n",
       "      <td>2879139</td>\n",
       "      <td>Leipzig</td>\n",
       "      <td>DE</td>\n",
       "      <td>12.37129</td>\n",
       "      <td>51.339619</td>\n",
       "      <td>Leipzig,DE</td>\n",
       "      <td>2022-04-07 10:32:47.888142</td>\n",
       "      <td>597215</td>\n",
       "    </tr>\n",
       "    <tr>\n",
       "      <th>...</th>\n",
       "      <td>...</td>\n",
       "      <td>...</td>\n",
       "      <td>...</td>\n",
       "      <td>...</td>\n",
       "      <td>...</td>\n",
       "      <td>...</td>\n",
       "      <td>...</td>\n",
       "      <td>...</td>\n",
       "    </tr>\n",
       "    <tr>\n",
       "      <th>2122</th>\n",
       "      <td>2820101</td>\n",
       "      <td>Unkel</td>\n",
       "      <td>DE</td>\n",
       "      <td>7.21888</td>\n",
       "      <td>50.596531</td>\n",
       "      <td>Unkel,DE</td>\n",
       "      <td>2022-04-07 10:32:47.888142</td>\n",
       "      <td>5021</td>\n",
       "    </tr>\n",
       "    <tr>\n",
       "      <th>2123</th>\n",
       "      <td>2875978</td>\n",
       "      <td>Lonsee</td>\n",
       "      <td>DE</td>\n",
       "      <td>9.91999</td>\n",
       "      <td>48.543400</td>\n",
       "      <td>Lonsee,DE</td>\n",
       "      <td>2022-04-07 10:32:47.888142</td>\n",
       "      <td>5010</td>\n",
       "    </tr>\n",
       "    <tr>\n",
       "      <th>2124</th>\n",
       "      <td>2884667</td>\n",
       "      <td>Krauchenwies</td>\n",
       "      <td>DE</td>\n",
       "      <td>9.25000</td>\n",
       "      <td>48.033329</td>\n",
       "      <td>Krauchenwies,DE</td>\n",
       "      <td>2022-04-07 10:32:47.888142</td>\n",
       "      <td>5007</td>\n",
       "    </tr>\n",
       "    <tr>\n",
       "      <th>2125</th>\n",
       "      <td>2857075</td>\n",
       "      <td>Oerlenbach</td>\n",
       "      <td>DE</td>\n",
       "      <td>10.13333</td>\n",
       "      <td>50.150002</td>\n",
       "      <td>Oerlenbach,DE</td>\n",
       "      <td>2022-04-07 10:32:47.888142</td>\n",
       "      <td>5004</td>\n",
       "    </tr>\n",
       "    <tr>\n",
       "      <th>2126</th>\n",
       "      <td>2805228</td>\n",
       "      <td>Zapfendorf</td>\n",
       "      <td>DE</td>\n",
       "      <td>10.93243</td>\n",
       "      <td>50.017830</td>\n",
       "      <td>Zapfendorf,DE</td>\n",
       "      <td>2022-04-07 10:32:47.888142</td>\n",
       "      <td>5002</td>\n",
       "    </tr>\n",
       "  </tbody>\n",
       "</table>\n",
       "<p>2127 rows × 8 columns</p>\n",
       "</div>"
      ],
      "text/plain": [
       "      city_id     city_name city_country  city_longitude  city_latitude  \\\n",
       "0     2950158        Berlin           DE        10.45000      54.033329   \n",
       "1     2911298       Hamburg           DE        10.00000      53.549999   \n",
       "2     2867714        Munich           DE        11.57549      48.137428   \n",
       "3     2825297     Stuttgart           DE         9.17702      48.782318   \n",
       "4     2879139       Leipzig           DE        12.37129      51.339619   \n",
       "...       ...           ...          ...             ...            ...   \n",
       "2122  2820101         Unkel           DE         7.21888      50.596531   \n",
       "2123  2875978        Lonsee           DE         9.91999      48.543400   \n",
       "2124  2884667  Krauchenwies           DE         9.25000      48.033329   \n",
       "2125  2857075    Oerlenbach           DE        10.13333      50.150002   \n",
       "2126  2805228    Zapfendorf           DE        10.93243      50.017830   \n",
       "\n",
       "     municipality_country                 created_at  city_pop  \n",
       "0               Berlin,DE 2022-04-07 10:32:47.888142   3664088  \n",
       "1              Hamburg,DE 2022-04-07 10:32:47.888142   1852478  \n",
       "2               Munich,DE 2022-04-07 10:32:47.888142   1488202  \n",
       "3            Stuttgart,DE 2022-04-07 10:32:47.888142    630305  \n",
       "4              Leipzig,DE 2022-04-07 10:32:47.888142    597215  \n",
       "...                   ...                        ...       ...  \n",
       "2122             Unkel,DE 2022-04-07 10:32:47.888142      5021  \n",
       "2123            Lonsee,DE 2022-04-07 10:32:47.888142      5010  \n",
       "2124      Krauchenwies,DE 2022-04-07 10:32:47.888142      5007  \n",
       "2125        Oerlenbach,DE 2022-04-07 10:32:47.888142      5004  \n",
       "2126        Zapfendorf,DE 2022-04-07 10:32:47.888142      5002  \n",
       "\n",
       "[2127 rows x 8 columns]"
      ]
     },
     "execution_count": 14,
     "metadata": {},
     "output_type": "execute_result"
    }
   ],
   "source": [
    "send_to_DB(\n",
    "       df=german_cities, \n",
    "       table_name=\"cities\", \n",
    "       if_exists=\"replace\", \n",
    ")"
   ]
  }
 ],
 "metadata": {
  "interpreter": {
   "hash": "40d3a090f54c6569ab1632332b64b2c03c39dcf918b08424e98f38b5ae0af88f"
  },
  "kernelspec": {
   "display_name": "Python 3.9.7 ('base')",
   "language": "python",
   "name": "python3"
  },
  "language_info": {
   "codemirror_mode": {
    "name": "ipython",
    "version": 3
   },
   "file_extension": ".py",
   "mimetype": "text/x-python",
   "name": "python",
   "nbconvert_exporter": "python",
   "pygments_lexer": "ipython3",
   "version": "3.9.7"
  },
  "orig_nbformat": 4
 },
 "nbformat": 4,
 "nbformat_minor": 2
}
